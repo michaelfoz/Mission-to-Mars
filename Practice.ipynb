{
 "cells": [
  {
   "cell_type": "markdown",
   "id": "0bc42ecb",
   "metadata": {},
   "source": [
    "# 10.3.1 Use Splinter"
   ]
  },
  {
   "cell_type": "raw",
   "id": "a6c6f8ea",
   "metadata": {},
   "source": [
    "https://courses.bootcampspot.com/courses/1225/pages/10-dot-3-1-use-splinter?module_item_id=498524\n",
    "\n",
    "Navigate to your Mission-to-Mars folder using the terminal. Then go ahead and activate Jupyter Notebook. Create a new .ipynb file to get started—this is where we'll begin our web scraping work. Let's name it \"Practice.\" It can be deleted when we're done, or used as a reference later on. It's not necessary, but you can add it to your GitHub repo and to your .gitignore file so that it's hidden from public view.\n",
    "\n",
    "REWIND\n",
    ".gitignore is a ext file that contains the names of files you don't want the public to see, such as configuration files, or files that aren't necessary for the completed project, but you want to keep for reference."
   ]
  },
  {
   "cell_type": "code",
   "execution_count": 7,
   "id": "11913ec7",
   "metadata": {},
   "outputs": [],
   "source": [
    "# import our scraping tools: \n",
    "# the Browser instance from splinter, \n",
    "# the BeautifulSoup object, \n",
    "# and the driver object for Chrome, ChromeDriverManage\n",
    "\n",
    "from splinter import Browser\n",
    "from bs4 import BeautifulSoup as soup\n",
    "from webdriver_manager.chrome import ChromeDriverManager\n",
    "\n",
    "# (At first, import splinter code was not working, had to install selenium: pip install selenium)"
   ]
  },
  {
   "cell_type": "code",
   "execution_count": 8,
   "id": "5af453ea",
   "metadata": {},
   "outputs": [
    {
     "name": "stderr",
     "output_type": "stream",
     "text": [
      "\n",
      "\n",
      "====== WebDriver manager ======\n",
      "Current google-chrome version is 101.0.4951\n",
      "Get LATEST chromedriver version for 101.0.4951 google-chrome\n",
      "Driver [C:\\Users\\micha\\.wdm\\drivers\\chromedriver\\win32\\101.0.4951.41\\chromedriver.exe] found in cache\n"
     ]
    }
   ],
   "source": [
    "# Set up Splinter -- set the executable path and initialize a browser\n",
    "executable_path = {'executable_path': ChromeDriverManager().install()}\n",
    "browser = Browser('chrome', **executable_path, headless=False)"
   ]
  },
  {
   "cell_type": "raw",
   "id": "1bc4c281",
   "metadata": {},
   "source": [
    "While the window can be closed at any time, it's generally not a good idea to shut down the browser without ending the session properly – there's an excellent chance your code will fail or an error will be generated. "
   ]
  },
  {
   "cell_type": "raw",
   "id": "1d7572e7",
   "metadata": {},
   "source": [
    "NOTE\n",
    "Splinter provides us with many ways to interact with webpages. It can input terms into a Google search bar for us and click the Search button, or even log us into our email accounts by inputting a username and password combination."
   ]
  },
  {
   "cell_type": "markdown",
   "id": "6832e607",
   "metadata": {},
   "source": [
    "# 10.3.2 Practice with Splinter and BeautifulSoup"
   ]
  },
  {
   "cell_type": "raw",
   "id": "81735c6d",
   "metadata": {},
   "source": [
    "https://courses.bootcampspot.com/courses/1225/pages/10-dot-3-2-practice-with-splinter-and-beautifulsoup?module_item_id=498533"
   ]
  },
  {
   "cell_type": "raw",
   "id": "cc291be0",
   "metadata": {},
   "source": [
    "Q: What is the process to follow when discovering what HTML tags contain our data?\n",
    "A: Locate the data to scrape on the page, use “Inspect” to bring up DevTools, then select an element on a page to inspect it."
   ]
  },
  {
   "cell_type": "markdown",
   "id": "f618e10e",
   "metadata": {},
   "source": [
    "###  Scraping Practice Website Link:"
   ]
  },
  {
   "cell_type": "markdown",
   "id": "9ad527c1",
   "metadata": {},
   "source": [
    "# http://quotes.toscrape.com/"
   ]
  },
  {
   "cell_type": "raw",
   "id": "017f14f2",
   "metadata": {},
   "source": [
    "Before we start with the code, we'll want to use the DevTools to look at the details of this line. \n",
    "Right-click the webpage and select \"Inspect.\"\n",
    "From the DevTools window, we can actually select an element on the page instead of searching through the tags."
   ]
  },
  {
   "cell_type": "markdown",
   "id": "f8155184",
   "metadata": {},
   "source": [
    "### Scrape the Top 10 Tags"
   ]
  },
  {
   "cell_type": "raw",
   "id": "8db39f04",
   "metadata": {},
   "source": [
    "# Before we start with the code, we'll want to use the DevTools to look at the details of this line. \n",
    "\n",
    "1. Right-click the webpage and select \"Inspect.\" \n",
    "2. From the DevTools window, we can actually select an element on the page instead of searching through the tags.\n",
    "3. First, select the inspect icon (the one to the far left).\n",
    "4. Then, click the element you want to select on the page, such as the humor tag. \n",
    "    (This will direct your DevTools to the line of code the humor tag is nested in.)\n",
    "5. Sometimes we'll still have to dig through the tags to find the ones we want, \n",
    "    but being able to select items directly from the webpage helps scale down time immensely. \n",
    "    (With this shortcut, we've been able to select the <h2 /> tag holding the text we want.)"
   ]
  },
  {
   "cell_type": "raw",
   "id": "0a10376e",
   "metadata": {},
   "source": [
    "With this, we know that our data is in an <h2 /> tag. We've narrowed down where our data is hanging out. But what if there is more than one <h2 /> tag on the page? When scraping one particular item, we will often need to be more specific in choosing the tag we're scraping from. We can narrow this down even further by using the search function in our DevTools."
   ]
  },
  {
   "cell_type": "code",
   "execution_count": 9,
   "id": "ddbd01a7",
   "metadata": {},
   "outputs": [],
   "source": [
    "# Q: What is the process to follow when discovering what HTML tags contain our data?\n",
    "# A: Locate the data to scrape on the page, use “Inspect” to bring up DevTools, then select an element on a page to inspect it."
   ]
  },
  {
   "cell_type": "markdown",
   "id": "3467603c",
   "metadata": {},
   "source": [
    "### Search for Elements"
   ]
  },
  {
   "cell_type": "raw",
   "id": "6ec616b6",
   "metadata": {},
   "source": [
    "Searching within the HTML code is another useful way to quickly find items we're looking for. Earlier, we were able to select a particular component from the page with the select tool. \n",
    "\n",
    "But there are times where we need to know how many of a certain type of tag are in the page.\n",
    "\n",
    "For example, the title we want to scrape is in an <h2 /> tag, \n",
    "but there are several others on the page as well. \n",
    "Knowing this, we can expect to tailor our code to pull only the <h2 /> tag we want. \n",
    "(First, let's practice searching in the HTML.)"
   ]
  },
  {
   "cell_type": "raw",
   "id": "5cbc9d3e",
   "metadata": {},
   "source": [
    "1. With the DevTools still active, \n",
    "    press Command + F if you use a Mac, or CTRL + F if you use a Windows computer. \n",
    "    This activates the search functionality, only instead of searching the webpage, we're searching the HTML of the webpage. \n",
    "\n",
    "    So if we search for all of the <h2 /> tags in the document, \n",
    "    we'll know if we need to make our search more specific by adding attributes such as a class name or an id.\n",
    "\n",
    "2. In the search bar that we just activated, type h2 and then press Enter on your keyboard.\n",
    "\n",
    "    The result of our search immediately shows us two things: \n",
    "    (a) that the first tag we've searched for is highlighted, \n",
    "    (b) and also the number of those tags in the document.\n",
    "    \n",
    "    Because there is only \"1 of 1\" h2 tags in the document, we know that we can scrape for an <h2 />\n",
    "    without being more specific. In most other cases, we'll need to include a class or id,\n",
    "    so we'll practice that in a little bit."
   ]
  },
  {
   "cell_type": "markdown",
   "id": "178a1c86",
   "metadata": {},
   "source": [
    "### 1st Scrape: Scrape the Title"
   ]
  },
  {
   "cell_type": "code",
   "execution_count": 10,
   "id": "26eccacf",
   "metadata": {},
   "outputs": [],
   "source": [
    "# Visit the Quotes to Scrape site\n",
    "# This code tells Splinter which site we want to visit by assigning the link to a URL. \n",
    "# (After executing the code, we will use BeautifulSoup to parse the HTML.)\n",
    "\n",
    "url = 'http://quotes.toscrape.com/'\n",
    "browser.visit(url)"
   ]
  },
  {
   "cell_type": "code",
   "execution_count": 11,
   "id": "1a061c2b",
   "metadata": {},
   "outputs": [],
   "source": [
    "# use BeautifulSoup to parse the HTML\n",
    "html = browser.html\n",
    "html_soup = soup(html, 'html.parser')\n",
    "\n",
    "# Now we've parsed all of the HTML on the page. \n",
    "# That means that BeautifulSoup has taken a look at the different components and can now access them. \n",
    "# Specifically, BeautifulSoup parses the HTML text and then stores it as an object."
   ]
  },
  {
   "cell_type": "raw",
   "id": "03a05ceb",
   "metadata": {},
   "source": [
    "We're using ‘html.parser’ to parse the information (but there are other options available as well)."
   ]
  },
  {
   "cell_type": "code",
   "execution_count": 12,
   "id": "af98afeb",
   "metadata": {},
   "outputs": [
    {
     "data": {
      "text/plain": [
       "'Top Ten tags'"
      ]
     },
     "execution_count": 12,
     "metadata": {},
     "output_type": "execute_result"
    }
   ],
   "source": [
    "# Scrape the Title -- find the title and extract it\n",
    "title = html_soup.find('h2').text\n",
    "title"
   ]
  },
  {
   "cell_type": "raw",
   "id": "a2678bb0",
   "metadata": {},
   "source": [
    "The last two lines of code:\n",
    "title = html_soup.find('h2').text\n",
    "title\n",
    "\n",
    "1. We used our html_soup object we created earlier and chained find() to it to search for the <h2 /> tag.\n",
    "2. We've also extracted only the text within the HTML tags by adding .text to the end of the code."
   ]
  },
  {
   "cell_type": "markdown",
   "id": "dd86ee8c",
   "metadata": {},
   "source": [
    "### 2nd Scrape: Scrape All of the Tags"
   ]
  },
  {
   "cell_type": "raw",
   "id": "f27afa38",
   "metadata": {},
   "source": [
    "1. Using our DevTools again, look at the code for the tags. \n",
    "    We want all of the tags instead of just one, \n",
    "    so we want to first use our select tool to highlight the <div /> container that holds all of the tags.\n",
    "\n",
    "    Notice that the <div /> container holding all of the tags has two classes. \n",
    "    The col-md-4 class is a Bootstrap feature. \n",
    "    Bootstrap is an HTML and CSS framework that simplifies adding functional components that look nice by default. \n",
    "    In this case, col-md-4 means that this webpage is using a grid layout, and it's a common class that many webpages use. \n",
    "    (We'll dive into that more later.)"
   ]
  },
  {
   "cell_type": "raw",
   "id": "5d8256a8",
   "metadata": {},
   "source": [
    "2. The other class, tags-box, looks custom, though. \n",
    "    Let's make sure first by searching for it using our search box (using Ctrl/Command + F).\n",
    "\n",
    "    After searching for tags-box, we can see that only one result is returned. \n",
    "    This means that it's unique in the HTML and can be used to locate specific data. \n",
    "\n",
    "3. Next, expand the tags-box div to take a look at the contents.\n",
    "\n",
    "        From here, we can see a list of <span /> elements, each with a class of tag-item. \n",
    "        Open some of the <span /> elements to see what they contain; \n",
    "        if you see <a /> elements with the names in the list that we're targeting, then we're in the right place.\n",
    "\n",
    "        Since there are 10 items in the list displayed in the browser, \n",
    "        let's use the dev tools' search function to verify the list item count. \n",
    "        Search for tag-item and note the number of returned results. \n",
    "\n",
    "        If there are 10, then we're ready to go (to Jupyter Notebook to scrape the top ten tags)."
   ]
  },
  {
   "cell_type": "code",
   "execution_count": 13,
   "id": "7ec42126",
   "metadata": {},
   "outputs": [
    {
     "name": "stdout",
     "output_type": "stream",
     "text": [
      "love\n",
      "inspirational\n",
      "life\n",
      "humor\n",
      "books\n",
      "reading\n",
      "friendship\n",
      "friends\n",
      "truth\n",
      "simile\n"
     ]
    }
   ],
   "source": [
    "# Scrape the top ten tags\n",
    "tag_box = html_soup.find('div', class_='tags-box')\n",
    "# tag_box\n",
    "tags = tag_box.find_all('a', class_='tag')\n",
    "\n",
    "for tag in tags:\n",
    "    word = tag.text\n",
    "    print(word)"
   ]
  },
  {
   "cell_type": "raw",
   "id": "d3f417c6",
   "metadata": {},
   "source": [
    "This code looks really similar to our last, but we've increased the difficulty a bit by incorporating a for loop, but let's start at the beginning.\n",
    "\n",
    "The first line, tag_box = html_soup.find('div', class_='tags-box'), \n",
    "\n",
    "    creates a new variable tag_box, which will be used to store the results of a search. \n",
    "    In this case, we're looking for <div /> elements with a class of tags-box, \n",
    "    and we're searching for it in the HTML we parsed earlier and stored in the html_soup variable.\n",
    "\n",
    "The second line, tags = tag_box.find_all('a', class_='tag'), \n",
    "\n",
    "    is similar to the first but with a few tweaks to make the search more specific. \n",
    "    The new \"tags\" variable will hold the results of a find_all, \n",
    "    but this time we're searching through the parsed results stored \n",
    "    in our tag_box variable to find <a /> elements with a tag class.\n",
    "\n",
    "\n",
    "We used find_all this time because we want to capture all results, instead of a single or specific one.\n",
    "\n",
    "\n",
    "Next, we've added a for loop. This for loop cycles through each tag in the tags variable, \n",
    "    strips the HTML code out of it, and then prints only the text of each tag."
   ]
  },
  {
   "cell_type": "markdown",
   "id": "9a163f53",
   "metadata": {},
   "source": [
    "### Scrape Across Pages"
   ]
  },
  {
   "cell_type": "raw",
   "id": "c9345fd7",
   "metadata": {},
   "source": [
    "Our next section of code will scrape the quotes on the first page, click the \"Next\" button, then scrape more quotes and so on until we have scraped the quotes on five pages."
   ]
  },
  {
   "cell_type": "raw",
   "id": "0c91e3b2",
   "metadata": {},
   "source": [
    "(We have already created the Browser instance and navigated to the http://quotes.toscrape.com/ page with the visit() method. But, if you'd like to create the Browser instance again, run the following code in a new cell.)\n",
    "\n",
    "url = 'http://quotes.toscrape.com/'\n",
    "browser.visit(url)"
   ]
  },
  {
   "cell_type": "code",
   "execution_count": 14,
   "id": "0f7f7680",
   "metadata": {},
   "outputs": [],
   "source": [
    "url = 'http://quotes.toscrape.com/'\n",
    "browser.visit(url)"
   ]
  },
  {
   "cell_type": "raw",
   "id": "4fd9b666",
   "metadata": {},
   "source": [
    "In the next cell, we'll create a for loop that will do the following:\n",
    "\n",
    "Create a BeautifulSoup object\n",
    "1. Find all the quotes on the page\n",
    "2. Print each quote from the page\n",
    "3. Click the \"Next\" button at the bottom of the page\n",
    "\n",
    "We'll use range(1, 6) in our for loop to visit the first five pages of the website."
   ]
  },
  {
   "cell_type": "code",
   "execution_count": 15,
   "id": "e5475767",
   "metadata": {},
   "outputs": [
    {
     "name": "stdout",
     "output_type": "stream",
     "text": [
      "page: 1 ----------\n",
      "“The world as we have created it is a process of our thinking. It cannot be changed without changing our thinking.”\n",
      "page: 1 ----------\n",
      "“It is our choices, Harry, that show what we truly are, far more than our abilities.”\n",
      "page: 1 ----------\n",
      "“There are only two ways to live your life. One is as though nothing is a miracle. The other is as though everything is a miracle.”\n",
      "page: 1 ----------\n",
      "“The person, be it gentleman or lady, who has not pleasure in a good novel, must be intolerably stupid.”\n",
      "page: 1 ----------\n",
      "“Imperfection is beauty, madness is genius and it's better to be absolutely ridiculous than absolutely boring.”\n",
      "page: 1 ----------\n",
      "“Try not to become a man of success. Rather become a man of value.”\n",
      "page: 1 ----------\n",
      "“It is better to be hated for what you are than to be loved for what you are not.”\n",
      "page: 1 ----------\n",
      "“I have not failed. I've just found 10,000 ways that won't work.”\n",
      "page: 1 ----------\n",
      "“A woman is like a tea bag; you never know how strong it is until it's in hot water.”\n",
      "page: 1 ----------\n",
      "“A day without sunshine is like, you know, night.”\n",
      "page: 2 ----------\n",
      "“This life is what you make it. No matter what, you're going to mess up sometimes, it's a universal truth. But the good part is you get to decide how you're going to mess it up. Girls will be your friends - they'll act like it anyway. But just remember, some come, some go. The ones that stay with you through everything - they're your true best friends. Don't let go of them. Also remember, sisters make the best friends in the world. As for lovers, well, they'll come and go too. And baby, I hate to say it, most of them - actually pretty much all of them are going to break your heart, but you can't give up because if you give up, you'll never find your soulmate. You'll never find that half who makes you whole and that goes for everything. Just because you fail once, doesn't mean you're gonna fail at everything. Keep trying, hold on, and always, always, always believe in yourself, because if you don't, then who will, sweetie? So keep your head high, keep your chin up, and most importantly, keep smiling, because life's a beautiful thing and there's so much to smile about.”\n",
      "page: 2 ----------\n",
      "“It takes a great deal of bravery to stand up to our enemies, but just as much to stand up to our friends.”\n",
      "page: 2 ----------\n",
      "“If you can't explain it to a six year old, you don't understand it yourself.”\n",
      "page: 2 ----------\n",
      "“You may not be her first, her last, or her only. She loved before she may love again. But if she loves you now, what else matters? She's not perfect—you aren't either, and the two of you may never be perfect together but if she can make you laugh, cause you to think twice, and admit to being human and making mistakes, hold onto her and give her the most you can. She may not be thinking about you every second of the day, but she will give you a part of her that she knows you can break—her heart. So don't hurt her, don't change her, don't analyze and don't expect more than she can give. Smile when she makes you happy, let her know when she makes you mad, and miss her when she's not there.”\n",
      "page: 2 ----------\n",
      "“I like nonsense, it wakes up the brain cells. Fantasy is a necessary ingredient in living.”\n",
      "page: 2 ----------\n",
      "“I may not have gone where I intended to go, but I think I have ended up where I needed to be.”\n",
      "page: 2 ----------\n",
      "“The opposite of love is not hate, it's indifference. The opposite of art is not ugliness, it's indifference. The opposite of faith is not heresy, it's indifference. And the opposite of life is not death, it's indifference.”\n",
      "page: 2 ----------\n",
      "“It is not a lack of love, but a lack of friendship that makes unhappy marriages.”\n",
      "page: 2 ----------\n",
      "“Good friends, good books, and a sleepy conscience: this is the ideal life.”\n",
      "page: 2 ----------\n",
      "“Life is what happens to us while we are making other plans.”\n",
      "page: 3 ----------\n",
      "“I love you without knowing how, or when, or from where. I love you simply, without problems or pride: I love you in this way because I do not know any other way of loving but this, in which there is no I or you, so intimate that your hand upon my chest is my hand, so intimate that when I fall asleep your eyes close.”\n",
      "page: 3 ----------\n",
      "“For every minute you are angry you lose sixty seconds of happiness.”\n",
      "page: 3 ----------\n",
      "“If you judge people, you have no time to love them.”\n",
      "page: 3 ----------\n",
      "“Anyone who thinks sitting in church can make you a Christian must also think that sitting in a garage can make you a car.”\n",
      "page: 3 ----------\n",
      "“Beauty is in the eye of the beholder and it may be necessary from time to time to give a stupid or misinformed beholder a black eye.”\n",
      "page: 3 ----------\n",
      "“Today you are You, that is truer than true. There is no one alive who is Youer than You.”\n",
      "page: 3 ----------\n",
      "“If you want your children to be intelligent, read them fairy tales. If you want them to be more intelligent, read them more fairy tales.”\n",
      "page: 3 ----------\n",
      "“It is impossible to live without failing at something, unless you live so cautiously that you might as well not have lived at all - in which case, you fail by default.”\n",
      "page: 3 ----------\n",
      "“Logic will get you from A to Z; imagination will get you everywhere.”\n",
      "page: 3 ----------\n",
      "“One good thing about music, when it hits you, you feel no pain.”\n",
      "page: 4 ----------\n",
      "“The more that you read, the more things you will know. The more that you learn, the more places you'll go.”\n",
      "page: 4 ----------\n",
      "“Of course it is happening inside your head, Harry, but why on earth should that mean that it is not real?”\n",
      "page: 4 ----------\n",
      "“The truth is, everyone is going to hurt you. You just got to find the ones worth suffering for.”\n",
      "page: 4 ----------\n",
      "“Not all of us can do great things. But we can do small things with great love.”\n",
      "page: 4 ----------\n",
      "“To the well-organized mind, death is but the next great adventure.”\n",
      "page: 4 ----------\n",
      "“All you need is love. But a little chocolate now and then doesn't hurt.”\n",
      "page: 4 ----------\n",
      "“We read to know we're not alone.”\n",
      "page: 4 ----------\n",
      "“Any fool can know. The point is to understand.”\n",
      "page: 4 ----------\n",
      "“I have always imagined that Paradise will be a kind of library.”\n",
      "page: 4 ----------\n",
      "“It is never too late to be what you might have been.”\n",
      "page: 5 ----------\n",
      "“A reader lives a thousand lives before he dies, said Jojen. The man who never reads lives only one.”\n",
      "page: 5 ----------\n",
      "“You can never get a cup of tea large enough or a book long enough to suit me.”\n",
      "page: 5 ----------\n",
      "“You believe lies so you eventually learn to trust no one but yourself.”\n",
      "page: 5 ----------\n",
      "“If you can make a woman laugh, you can make her do anything.”\n",
      "page: 5 ----------\n",
      "“Life is like riding a bicycle. To keep your balance, you must keep moving.”\n",
      "page: 5 ----------\n",
      "“The real lover is the man who can thrill you by kissing your forehead or smiling into your eyes or just staring into space.”\n",
      "page: 5 ----------\n",
      "“A wise girl kisses but doesn't love, listens but doesn't believe, and leaves before she is left.”\n",
      "page: 5 ----------\n",
      "“Only in the darkness can you see the stars.”\n",
      "page: 5 ----------\n",
      "“It matters not what someone is born, but what they grow to be.”\n",
      "page: 5 ----------\n",
      "“Love does not begin and end the way we seem to think it does. Love is a battle, love is a war; love is a growing up.”\n"
     ]
    }
   ],
   "source": [
    "for x in range(1, 6):\n",
    "   html = browser.html\n",
    "   quote_soup = soup(html, 'html.parser')\n",
    "   quotes = quote_soup.find_all('span', class_='text')\n",
    "   for quote in quotes:\n",
    "      print('page:', x, '----------')\n",
    "      print(quote.text)\n",
    "   browser.links.find_by_partial_text('Next').click()"
   ]
  },
  {
   "cell_type": "raw",
   "id": "69c6e6df",
   "metadata": {},
   "source": [
    "What the code is doing:\n",
    "\n",
    "for x in range(1, 6): # For loop with five iterations (pages 1 - 6 )\n",
    "\n",
    "   # Creates an HTML object, assigned to the html variable\n",
    "   html = browser.html\n",
    "   # Use BeautifulSoup to parse the html object\n",
    "   quote_soup = soup(html, 'html.parser') \n",
    "   \n",
    "   # Use BeautifulSoup to find all <span/> tags with a class of \"text\"\n",
    "   quotes = quote_soup.find_all('span', class_='text') \n",
    "   \n",
    "   # Print statements wrapped in another for loop that will print each quote parsed by\n",
    "   for quote in quotes:\n",
    "      print('page:', x, '----------')\n",
    "      print(quote.text)\n",
    "   \n",
    "   # Use Splinter to click the \"Next\" button\n",
    "   browser.links.find_by_partial_text('Next').click()"
   ]
  },
  {
   "cell_type": "raw",
   "id": "7175676d",
   "metadata": {},
   "source": [
    "It's important to note that there are many ways that BeautifulSoup can search for text, but the syntax is typically the same: we look for a tag first, then an attribute. \n",
    "\n",
    "We can search for items using only a tag, such as a <span /> or <h1 />, but a class or id attribute makes the search that much more specific.\n",
    "\n",
    "By including an attribute, we have a far better chance of scraping the data we want."
   ]
  },
  {
   "cell_type": "code",
   "execution_count": null,
   "id": "a4a10082",
   "metadata": {},
   "outputs": [],
   "source": [
    "# Q: To create a new div element that acts as a container and has an id of “box”, which of these options is would you use?\n",
    "# A: <div class=”container” id=”box”></div>\n",
    "\n",
    "# What would happen we ran soup.find_all('div', class_='quote') instead of soup.find_all('span', class='text')?\n",
    "# We would scrape the parent element and grab everything instead of just the quotes."
   ]
  }
 ],
 "metadata": {
  "kernelspec": {
   "display_name": "Python 3 (ipykernel)",
   "language": "python",
   "name": "python3"
  },
  "language_info": {
   "codemirror_mode": {
    "name": "ipython",
    "version": 3
   },
   "file_extension": ".py",
   "mimetype": "text/x-python",
   "name": "python",
   "nbconvert_exporter": "python",
   "pygments_lexer": "ipython3",
   "version": "3.7.11"
  }
 },
 "nbformat": 4,
 "nbformat_minor": 5
}
